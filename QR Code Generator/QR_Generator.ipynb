{
 "cells": [
  {
   "cell_type": "code",
   "execution_count": 36,
   "metadata": {},
   "outputs": [
    {
     "name": "stdout",
     "output_type": "stream",
     "text": [
      "Requirement already satisfied: qrcode[pil] in c:\\users\\acer\\anaconda3\\lib\\site-packages (7.4.2)\n",
      "Requirement already satisfied: typing-extensions in c:\\users\\acer\\anaconda3\\lib\\site-packages (from qrcode[pil]) (4.7.1)\n",
      "Requirement already satisfied: pypng in c:\\users\\acer\\anaconda3\\lib\\site-packages (from qrcode[pil]) (0.20220715.0)\n",
      "Requirement already satisfied: colorama in c:\\users\\acer\\anaconda3\\lib\\site-packages (from qrcode[pil]) (0.4.6)\n",
      "Requirement already satisfied: pillow>=9.1.0 in c:\\users\\acer\\anaconda3\\lib\\site-packages (from qrcode[pil]) (9.4.0)\n",
      "Note: you may need to restart the kernel to use updated packages.\n"
     ]
    }
   ],
   "source": [
    "pip install \"qrcode[pil]\""
   ]
  },
  {
   "cell_type": "code",
   "execution_count": 2,
   "metadata": {},
   "outputs": [],
   "source": [
    "import qrcode as qr\n",
    "# qr is an alias name given so that i dont have to write import qr again and again"
   ]
  },
  {
   "cell_type": "markdown",
   "metadata": {},
   "source": [
    "make function :to make qr code\n",
    "savefunction :qr code provided in png format\n",
    "image format used is :png"
   ]
  },
  {
   "cell_type": "code",
   "execution_count": 3,
   "metadata": {},
   "outputs": [],
   "source": [
    "img=qr.make(\"https://youtu.be/ARu7UeGJ0is?si=YI81BVKY6oivJBzR\")\n",
    "#here u can provide url for any video,or image link or any sentence or text\n",
    "img.save(\"Krishna_Kirtan.png\")"
   ]
  },
  {
   "cell_type": "markdown",
   "metadata": {},
   "source": [
    "## Plain QR Code"
   ]
  },
  {
   "cell_type": "code",
   "execution_count": 21,
   "metadata": {},
   "outputs": [],
   "source": [
    "import qrcode\n",
    "from PIL import Image\n",
    "#data le rhe hai and whi pe change krenge \n",
    "#QRCode :changes functionality and changes error of qrcodes\n",
    "qr=qrcode.QRCode(version=1,error_correction=qrcode.constants.ERROR_CORRECT_H, box_size=40,border=5)\n",
    "qr.add_data(\"https://youtu.be/ARu7UeGJ0is?si=YI81BVKY6oivJBzR\")\n",
    "qr.make(fit=True)\n",
    "#data if fit value is true \n",
    "img=qr.make_image(fill_color=\"#483C32\",back_color=\"wheat\")\n",
    "img.save(\"Krishna_Kirtan.png\")"
   ]
  },
  {
   "cell_type": "markdown",
   "metadata": {},
   "source": [
    "## QR Code with Logo"
   ]
  },
  {
   "cell_type": "code",
   "execution_count": 34,
   "metadata": {},
   "outputs": [],
   "source": [
    "import qrcode\n",
    "from PIL import Image\n",
    "qr=qrcode.QRCode(version=1,error_correction=qrcode.constants.ERROR_CORRECT_H, box_size=5,border=5)\n",
    "qr.add_data(\"https://youtu.be/ARu7UeGJ0is?si=YI81BVKY6oivJBzR\")\n",
    "img=qr.make_image(fill_color=\"red\",back_color=\"blue\")\n",
    "\n",
    "#add logo\n",
    "logo=Image.open(\"./yt_logo.png\").resize((100,100),Image.LANCZOS)\n",
    "\n",
    "#image set to center from here\n",
    "offset=((img.size[0]-100) // 2,(img.size[1]-100) // 2)\n",
    "#overlay this particular logo at particular offsets\n",
    "img.paste(logo,offset,mask=logo.split()[3] if logo.mode =='RGBA' else None)\n",
    "img.save(\"Krishna_Kirtanya.png\")"
   ]
  },
  {
   "cell_type": "markdown",
   "metadata": {},
   "source": [
    "## QR with BACKGROUND IMAGE"
   ]
  },
  {
   "cell_type": "code",
   "execution_count": 10,
   "metadata": {},
   "outputs": [],
   "source": [
    "import qrcode\n",
    "from PIL import Image\n",
    "from qrcode.image.styledpil import StyledPilImage\n",
    "from qrcode.image.styles.colormasks import ImageColorMask\n",
    "\n",
    "qr = qrcode.QRCode(version=1, box_size=15, border=4)\n",
    "qr.add_data(\"https://youtu.be/ARu7UeGJ0is?si=YI81BVKY6oivJBzR\")\n",
    "#image background\n",
    "bg = Image.open('./peacockfeather.jpg')\n",
    "qr_img = qr.make_image(image_factory=StyledPilImage, color_mask=ImageColorMask(back_color=(255,245,238), \n",
    "color_mask_image=bg))\n",
    "qr_img.save('hari_bol.png')"
   ]
  }
 ],
 "metadata": {
  "kernelspec": {
   "display_name": "base",
   "language": "python",
   "name": "python3"
  },
  "language_info": {
   "codemirror_mode": {
    "name": "ipython",
    "version": 3
   },
   "file_extension": ".py",
   "mimetype": "text/x-python",
   "name": "python",
   "nbconvert_exporter": "python",
   "pygments_lexer": "ipython3",
   "version": "3.11.5"
  }
 },
 "nbformat": 4,
 "nbformat_minor": 2
}
